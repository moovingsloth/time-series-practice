{
 "cells": [
  {
   "cell_type": "code",
   "execution_count": 18,
   "id": "1635a560",
   "metadata": {},
   "outputs": [
    {
     "name": "stdout",
     "output_type": "stream",
     "text": [
      "데이터 다운로드 중...\n",
      "데이터 수집 기간: 2020-01-01 ~ 2025-06-30\n",
      "다운로드 완료!\n",
      "SP500 데이터 기간: 2020-01-02 00:00:00-05:00 ~ 2025-06-27 00:00:00-04:00\n",
      "                                  Open         High  ...  Dividends  Stock Splits\n",
      "Date                                                 ...                         \n",
      "2025-06-23 00:00:00-04:00  5969.669922  6028.770020  ...        0.0           0.0\n",
      "2025-06-24 00:00:00-04:00  6061.209961  6101.759766  ...        0.0           0.0\n",
      "2025-06-25 00:00:00-04:00  6104.229980  6108.509766  ...        0.0           0.0\n",
      "2025-06-26 00:00:00-04:00  6112.089844  6146.520020  ...        0.0           0.0\n",
      "2025-06-27 00:00:00-04:00  6150.700195  6187.680176  ...        0.0           0.0\n",
      "\n",
      "[5 rows x 7 columns]\n"
     ]
    }
   ],
   "source": [
    "import yfinance as yf\n",
    "import pandas as pd\n",
    "import time\n",
    "from datetime import date\n",
    "\n",
    "# Fetch data using Ticker objects for better reliability\n",
    "print(\"데이터 다운로드 중...\")\n",
    "\n",
    "# 종료일 명시 (오늘 날짜)\n",
    "end_date = date.today()\n",
    "print(f\"데이터 수집 기간: 2020-01-01 ~ {end_date}\")\n",
    "\n",
    "sp_ticker = yf.Ticker('^GSPC')\n",
    "sp = sp_ticker.history(start='2020-01-01', end=end_date)\n",
    "time.sleep(0.5)\n",
    "\n",
    "dija_ticker = yf.Ticker('^DJI')\n",
    "dija = dija_ticker.history(start='2020-01-01', end=end_date)\n",
    "time.sleep(0.5)\n",
    "\n",
    "nasdaq_ticker = yf.Ticker('^IXIC')\n",
    "nasdaq = nasdaq_ticker.history(start='2020-01-01', end=end_date)\n",
    "time.sleep(0.5)\n",
    "\n",
    "kospi_ticker = yf.Ticker('^KS11')\n",
    "kospi = kospi_ticker.history(start='2020-01-01', end=end_date)\n",
    "time.sleep(0.5)\n",
    "\n",
    "kosdap_ticker = yf.Ticker('^KQ11')\n",
    "kosdap = kosdap_ticker.history(start='2020-01-01', end=end_date)\n",
    "\n",
    "print(\"다운로드 완료!\")\n",
    "print(f\"SP500 데이터 기간: {sp.index.min()} ~ {sp.index.max()}\")\n",
    "print(sp.tail())\n"
   ]
  },
  {
   "cell_type": "code",
   "execution_count": 24,
   "id": "0f01edc2",
   "metadata": {},
   "outputs": [
    {
     "name": "stdout",
     "output_type": "stream",
     "text": [
      "                                 SP500     SP_VOL  ...        KOSPI      KOSDAQ\n",
      "Date                                               ...                         \n",
      "2020-01-01 15:00:00+00:00          NaN        NaN  ...  2175.169922  674.020020\n",
      "2020-01-02 05:00:00+00:00  3257.850098  22.609863  ...          NaN         NaN\n",
      "2020-01-02 15:00:00+00:00          NaN        NaN  ...  2176.459961  669.929993\n",
      "2020-01-03 05:00:00+00:00  3234.850098  23.809814  ...          NaN         NaN\n",
      "2020-01-05 15:00:00+00:00          NaN        NaN  ...  2155.070068  655.309998\n",
      "\n",
      "[5 rows x 11 columns]\n"
     ]
    }
   ],
   "source": [
    "import pandas as pd\n",
    "df_pre = pd.DataFrame({\n",
    "    'SP500': sp['Close'], 'SP_VOL': sp['High'] - sp['Low'], 'SP_d': sp['Close'] - sp['Open'],\n",
    "    'DOW': dija['Close'], 'DOW_VOL': dija['High'] - dija['Low'], 'DOW_d': dija['Close'] - dija['Open'],\n",
    "    'NASDAQ': nasdaq['Close'], 'ND_Vol': nasdaq['High'] - nasdaq['Low'], 'ND_d': nasdaq['Close'] - nasdaq['Open'],\n",
    "    'KOSPI': kospi['Close'],\n",
    "    'KOSDAQ': kosdap['Close'],\n",
    "})\n",
    "print(df_pre.head())"
   ]
  },
  {
   "cell_type": "code",
   "execution_count": null,
   "id": "407548a2",
   "metadata": {},
   "outputs": [],
   "source": []
  }
 ],
 "metadata": {
  "kernelspec": {
   "display_name": "Python (ray-env)",
   "language": "python",
   "name": "ray-env"
  },
  "language_info": {
   "codemirror_mode": {
    "name": "ipython",
    "version": 3
   },
   "file_extension": ".py",
   "mimetype": "text/x-python",
   "name": "python",
   "nbconvert_exporter": "python",
   "pygments_lexer": "ipython3",
   "version": "3.9.21"
  }
 },
 "nbformat": 4,
 "nbformat_minor": 5
}
