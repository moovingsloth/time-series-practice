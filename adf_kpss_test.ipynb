{
 "cells": [
  {
   "cell_type": "code",
   "execution_count": 11,
   "id": "39739c6b",
   "metadata": {},
   "outputs": [],
   "source": [
    "from statsmodels.tsa.stattools import adfuller, kpss\n",
    "import pandas as pd\n",
    "import numpy as np\n",
    "data = pd.read_csv('../데이터/제1장/AirPassengers.csv', delimiter=\",\", index_col='Month')\n",
    "series = data['#Passengers'].values\n",
    "\n"
   ]
  },
  {
   "cell_type": "code",
   "execution_count": null,
   "id": "4c865e9b",
   "metadata": {},
   "outputs": [
    {
     "data": {
      "text/plain": [
       "(np.float64(0.8153688792060523),\n",
       " np.float64(0.991880243437641),\n",
       " 13,\n",
       " 130,\n",
       " {'1%': np.float64(-3.4816817173418295),\n",
       "  '5%': np.float64(-2.8840418343195267),\n",
       "  '10%': np.float64(-2.578770059171598)},\n",
       " np.float64(996.692930839019))"
      ]
     },
     "execution_count": 12,
     "metadata": {},
     "output_type": "execute_result"
    }
   ],
   "source": [
    "result = adfuller(series, autolag='AIC')\n",
    "result\n",
    "# p-value가 0.991, 통계 검정량과 critical value와의 비교를 통해 귀무가설을 기각하지 못해, 차분이 필요하다는 결론."
   ]
  },
  {
   "cell_type": "code",
   "execution_count": null,
   "id": "80dbacfe",
   "metadata": {},
   "outputs": [
    {
     "name": "stderr",
     "output_type": "stream",
     "text": [
      "/var/folders/nk/s4x3th851w574ph7qygky7xc0000gn/T/ipykernel_67913/3307842544.py:1: InterpolationWarning: The test statistic is outside of the range of p-values available in the\n",
      "look-up table. The actual p-value is smaller than the p-value returned.\n",
      "\n",
      "  result_kpss = kpss(series, nlags='auto')\n"
     ]
    },
    {
     "data": {
      "text/plain": [
       "(np.float64(1.6513122354165206),\n",
       " np.float64(0.01),\n",
       " 8,\n",
       " {'10%': 0.347, '5%': 0.463, '2.5%': 0.574, '1%': 0.739})"
      ]
     },
     "execution_count": 13,
     "metadata": {},
     "output_type": "execute_result"
    }
   ],
   "source": [
    "result_kpss = kpss(series, nlags='auto')\n",
    "result_kpss\n",
    "# p-value가 0.01로 매우 낮음, critical value와 통계 검정량을 비교한 결과 귀무가설을 기각하므로, 시계열이 비정상.(ADF와 kpss는 가설이 반대이므로 결론은 동일)"
   ]
  },
  {
   "cell_type": "code",
   "execution_count": null,
   "id": "6705894b",
   "metadata": {},
   "outputs": [],
   "source": []
  }
 ],
 "metadata": {
  "kernelspec": {
   "display_name": "analysis-env",
   "language": "python",
   "name": "python3"
  },
  "language_info": {
   "codemirror_mode": {
    "name": "ipython",
    "version": 3
   },
   "file_extension": ".py",
   "mimetype": "text/x-python",
   "name": "python",
   "nbconvert_exporter": "python",
   "pygments_lexer": "ipython3",
   "version": "3.9.21"
  }
 },
 "nbformat": 4,
 "nbformat_minor": 5
}
